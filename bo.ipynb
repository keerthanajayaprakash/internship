{
  "nbformat": 4,
  "nbformat_minor": 0,
  "metadata": {
    "colab": {
      "name": "bo.ipynb",
      "version": "0.3.2",
      "provenance": [],
      "include_colab_link": true
    },
    "kernelspec": {
      "name": "python3",
      "display_name": "Python 3"
    }
  },
  "cells": [
    {
      "cell_type": "markdown",
      "metadata": {
        "id": "view-in-github",
        "colab_type": "text"
      },
      "source": [
        "<a href=\"https://colab.research.google.com/github/keerthanajayaprakash/internship/blob/master/bo.ipynb\" target=\"_parent\"><img src=\"https://colab.research.google.com/assets/colab-badge.svg\" alt=\"Open In Colab\"/></a>"
      ]
    },
    {
      "cell_type": "code",
      "metadata": {
        "id": "apC86z8aJ2Rb",
        "colab_type": "code",
        "outputId": "e4f92474-c5d0-4211-f74e-53a7bd7b7ad5",
        "colab": {
          "base_uri": "https://localhost:8080/",
          "height": 34
        }
      },
      "source": [
        "import numpy as np\n",
        "a=np.array([20,30,40,50])\n",
        "b=np.arange(4)\n",
        "b"
      ],
      "execution_count": 0,
      "outputs": [
        {
          "output_type": "execute_result",
          "data": {
            "text/plain": [
              "array([0, 1, 2, 3])"
            ]
          },
          "metadata": {
            "tags": []
          },
          "execution_count": 2
        }
      ]
    },
    {
      "cell_type": "code",
      "metadata": {
        "id": "0o4N8uNOKUw6",
        "colab_type": "code",
        "outputId": "2f3e1cde-f49f-42ee-a0d2-ccd5fd1bf8ce",
        "colab": {
          "base_uri": "https://localhost:8080/",
          "height": 34
        }
      },
      "source": [
        "c=a-b\n",
        "c"
      ],
      "execution_count": 0,
      "outputs": [
        {
          "output_type": "execute_result",
          "data": {
            "text/plain": [
              "array([20, 29, 38, 47])"
            ]
          },
          "metadata": {
            "tags": []
          },
          "execution_count": 3
        }
      ]
    },
    {
      "cell_type": "code",
      "metadata": {
        "id": "DW7I701PKeC-",
        "colab_type": "code",
        "outputId": "898e6402-349b-4843-b975-5dddc9453351",
        "colab": {
          "base_uri": "https://localhost:8080/",
          "height": 34
        }
      },
      "source": [
        "b**2"
      ],
      "execution_count": 0,
      "outputs": [
        {
          "output_type": "execute_result",
          "data": {
            "text/plain": [
              "array([0, 1, 4, 9])"
            ]
          },
          "metadata": {
            "tags": []
          },
          "execution_count": 4
        }
      ]
    },
    {
      "cell_type": "code",
      "metadata": {
        "id": "hbklEHKGKjR1",
        "colab_type": "code",
        "outputId": "f6fda51b-e050-44c2-8385-dd2fa43d91ec",
        "colab": {
          "base_uri": "https://localhost:8080/",
          "height": 34
        }
      },
      "source": [
        "10*np.sin(a)"
      ],
      "execution_count": 0,
      "outputs": [
        {
          "output_type": "execute_result",
          "data": {
            "text/plain": [
              "array([ 9.12945251, -9.88031624,  7.4511316 , -2.62374854])"
            ]
          },
          "metadata": {
            "tags": []
          },
          "execution_count": 5
        }
      ]
    },
    {
      "cell_type": "code",
      "metadata": {
        "id": "g8GvxODhKorp",
        "colab_type": "code",
        "outputId": "c653d46a-7972-4510-b2b1-6cd7a7a1b0c8",
        "colab": {
          "base_uri": "https://localhost:8080/",
          "height": 34
        }
      },
      "source": [
        "a<35"
      ],
      "execution_count": 0,
      "outputs": [
        {
          "output_type": "execute_result",
          "data": {
            "text/plain": [
              "array([ True,  True, False, False])"
            ]
          },
          "metadata": {
            "tags": []
          },
          "execution_count": 6
        }
      ]
    },
    {
      "cell_type": "code",
      "metadata": {
        "id": "Hq1qz8xbLMFf",
        "colab_type": "code",
        "outputId": "9bfb1014-4dc3-4fea-c9ca-f8201eac479f",
        "colab": {
          "base_uri": "https://localhost:8080/",
          "height": 51
        }
      },
      "source": [
        "A=np.array([[1,1],\n",
        "           [0,1]])\n",
        "B=np.array([[2,0],\n",
        "            [3,4]])\n",
        "A*B"
      ],
      "execution_count": 0,
      "outputs": [
        {
          "output_type": "execute_result",
          "data": {
            "text/plain": [
              "array([[2, 0],\n",
              "       [0, 4]])"
            ]
          },
          "metadata": {
            "tags": []
          },
          "execution_count": 7
        }
      ]
    },
    {
      "cell_type": "code",
      "metadata": {
        "id": "E52_II5ZLt5Q",
        "colab_type": "code",
        "outputId": "cbf30ceb-b0b8-4cb4-e9b5-063291e399e7",
        "colab": {
          "base_uri": "https://localhost:8080/",
          "height": 51
        }
      },
      "source": [
        "A@B"
      ],
      "execution_count": 0,
      "outputs": [
        {
          "output_type": "execute_result",
          "data": {
            "text/plain": [
              "array([[5, 4],\n",
              "       [3, 4]])"
            ]
          },
          "metadata": {
            "tags": []
          },
          "execution_count": 8
        }
      ]
    },
    {
      "cell_type": "code",
      "metadata": {
        "id": "2dhcbI4dLzVM",
        "colab_type": "code",
        "outputId": "e5f1e6f4-e355-4779-bbca-de66bb9751c5",
        "colab": {
          "base_uri": "https://localhost:8080/",
          "height": 51
        }
      },
      "source": [
        "A.dot(B)"
      ],
      "execution_count": 0,
      "outputs": [
        {
          "output_type": "execute_result",
          "data": {
            "text/plain": [
              "array([[5, 4],\n",
              "       [3, 4]])"
            ]
          },
          "metadata": {
            "tags": []
          },
          "execution_count": 9
        }
      ]
    },
    {
      "cell_type": "code",
      "metadata": {
        "id": "309jUpFGL3w4",
        "colab_type": "code",
        "outputId": "610eab1c-cc04-4349-ec92-acff76e76f6e",
        "colab": {
          "base_uri": "https://localhost:8080/",
          "height": 51
        }
      },
      "source": [
        "a=np.ones((2,3),dtype=int)\n",
        "b=np.random.random((2,3))\n",
        "a*=3\n",
        "a"
      ],
      "execution_count": 0,
      "outputs": [
        {
          "output_type": "execute_result",
          "data": {
            "text/plain": [
              "array([[3, 3, 3],\n",
              "       [3, 3, 3]])"
            ]
          },
          "metadata": {
            "tags": []
          },
          "execution_count": 10
        }
      ]
    },
    {
      "cell_type": "code",
      "metadata": {
        "id": "pco58M-oMSMx",
        "colab_type": "code",
        "outputId": "d301bc34-c8c6-4a5f-a3f1-170ded9b1ad9",
        "colab": {
          "base_uri": "https://localhost:8080/",
          "height": 51
        }
      },
      "source": [
        "b+=a\n",
        "b"
      ],
      "execution_count": 0,
      "outputs": [
        {
          "output_type": "execute_result",
          "data": {
            "text/plain": [
              "array([[3.16063883, 3.22925264, 3.36852383],\n",
              "       [3.70493588, 3.89081823, 3.32048295]])"
            ]
          },
          "metadata": {
            "tags": []
          },
          "execution_count": 11
        }
      ]
    },
    {
      "cell_type": "code",
      "metadata": {
        "id": "6SidlYlVMZTm",
        "colab_type": "code",
        "colab": {}
      },
      "source": [
        "a+=b\n"
      ],
      "execution_count": 0,
      "outputs": []
    },
    {
      "cell_type": "code",
      "metadata": {
        "id": "Vd5bHwUlNF4J",
        "colab_type": "code",
        "outputId": "d7ccda17-8c30-4682-e577-ec8788a729a1",
        "colab": {
          "base_uri": "https://localhost:8080/",
          "height": 34
        }
      },
      "source": [
        "from numpy import pi\n",
        "a=np.ones(3,dtype=np.int32)\n",
        "b=np.linspace(0,pi,3)\n",
        "b.dtype.name"
      ],
      "execution_count": 0,
      "outputs": [
        {
          "output_type": "execute_result",
          "data": {
            "text/plain": [
              "'float64'"
            ]
          },
          "metadata": {
            "tags": []
          },
          "execution_count": 13
        }
      ]
    },
    {
      "cell_type": "code",
      "metadata": {
        "id": "JjUuQNSMNngF",
        "colab_type": "code",
        "outputId": "ffe06331-60cb-4a0a-f4fc-964c1559ba9e",
        "colab": {
          "base_uri": "https://localhost:8080/",
          "height": 34
        }
      },
      "source": [
        "c=a+b\n",
        "c"
      ],
      "execution_count": 0,
      "outputs": [
        {
          "output_type": "execute_result",
          "data": {
            "text/plain": [
              "array([1.        , 2.57079633, 4.14159265])"
            ]
          },
          "metadata": {
            "tags": []
          },
          "execution_count": 14
        }
      ]
    },
    {
      "cell_type": "code",
      "metadata": {
        "id": "ntpSvWJaNtMd",
        "colab_type": "code",
        "outputId": "af8e5e01-23b4-4527-870a-c1a278771f61",
        "colab": {
          "base_uri": "https://localhost:8080/",
          "height": 34
        }
      },
      "source": [
        "c.dtype.name"
      ],
      "execution_count": 0,
      "outputs": [
        {
          "output_type": "execute_result",
          "data": {
            "text/plain": [
              "'float64'"
            ]
          },
          "metadata": {
            "tags": []
          },
          "execution_count": 15
        }
      ]
    },
    {
      "cell_type": "code",
      "metadata": {
        "id": "aGdv7vhdNyXk",
        "colab_type": "code",
        "outputId": "4a7fa68a-5b6a-413b-b45b-7582af496175",
        "colab": {
          "base_uri": "https://localhost:8080/",
          "height": 51
        }
      },
      "source": [
        "d=np.exp(c*1j)\n",
        "d"
      ],
      "execution_count": 0,
      "outputs": [
        {
          "output_type": "execute_result",
          "data": {
            "text/plain": [
              "array([ 0.54030231+0.84147098j, -0.84147098+0.54030231j,\n",
              "       -0.54030231-0.84147098j])"
            ]
          },
          "metadata": {
            "tags": []
          },
          "execution_count": 16
        }
      ]
    },
    {
      "cell_type": "code",
      "metadata": {
        "id": "DYok_ftTOCd5",
        "colab_type": "code",
        "outputId": "a877dc83-b42e-4f6a-bb4e-e8418ee7ad38",
        "colab": {
          "base_uri": "https://localhost:8080/",
          "height": 34
        }
      },
      "source": [
        "d.dtype.name"
      ],
      "execution_count": 0,
      "outputs": [
        {
          "output_type": "execute_result",
          "data": {
            "text/plain": [
              "'complex128'"
            ]
          },
          "metadata": {
            "tags": []
          },
          "execution_count": 17
        }
      ]
    },
    {
      "cell_type": "code",
      "metadata": {
        "id": "_QP_jU13OIWF",
        "colab_type": "code",
        "outputId": "6c687293-332b-4bea-a6b4-96b2e111ed0b",
        "colab": {
          "base_uri": "https://localhost:8080/",
          "height": 51
        }
      },
      "source": [
        "a=np.random.random((2,3))\n",
        "a"
      ],
      "execution_count": 0,
      "outputs": [
        {
          "output_type": "execute_result",
          "data": {
            "text/plain": [
              "array([[0.59192808, 0.89022708, 0.4714609 ],\n",
              "       [0.22079979, 0.32409181, 0.48859424]])"
            ]
          },
          "metadata": {
            "tags": []
          },
          "execution_count": 18
        }
      ]
    },
    {
      "cell_type": "code",
      "metadata": {
        "id": "oNYYD8D1OS6D",
        "colab_type": "code",
        "outputId": "e7ba94ae-b457-4e5b-cd31-8eabd3dc5466",
        "colab": {
          "base_uri": "https://localhost:8080/",
          "height": 34
        }
      },
      "source": [
        "a.sum()"
      ],
      "execution_count": 0,
      "outputs": [
        {
          "output_type": "execute_result",
          "data": {
            "text/plain": [
              "2.987101899586298"
            ]
          },
          "metadata": {
            "tags": []
          },
          "execution_count": 19
        }
      ]
    },
    {
      "cell_type": "code",
      "metadata": {
        "id": "mhYLgJVQOW_L",
        "colab_type": "code",
        "outputId": "8a556b75-e119-428a-a45f-7158ca93773e",
        "colab": {
          "base_uri": "https://localhost:8080/",
          "height": 34
        }
      },
      "source": [
        "a.min()"
      ],
      "execution_count": 0,
      "outputs": [
        {
          "output_type": "execute_result",
          "data": {
            "text/plain": [
              "0.2207997946448177"
            ]
          },
          "metadata": {
            "tags": []
          },
          "execution_count": 20
        }
      ]
    },
    {
      "cell_type": "code",
      "metadata": {
        "id": "8_1T2iX5OaUS",
        "colab_type": "code",
        "outputId": "058ad623-b2ad-4485-e267-6705ebeb6ea9",
        "colab": {
          "base_uri": "https://localhost:8080/",
          "height": 34
        }
      },
      "source": [
        "a.max()"
      ],
      "execution_count": 0,
      "outputs": [
        {
          "output_type": "execute_result",
          "data": {
            "text/plain": [
              "0.8902270776541363"
            ]
          },
          "metadata": {
            "tags": []
          },
          "execution_count": 21
        }
      ]
    },
    {
      "cell_type": "code",
      "metadata": {
        "id": "3551zYEEOfP3",
        "colab_type": "code",
        "outputId": "6a4510bb-7427-47fd-9dab-542896f294b7",
        "colab": {
          "base_uri": "https://localhost:8080/",
          "height": 68
        }
      },
      "source": [
        "b=np.arange(12).reshape(3,4)\n",
        "b"
      ],
      "execution_count": 0,
      "outputs": [
        {
          "output_type": "execute_result",
          "data": {
            "text/plain": [
              "array([[ 0,  1,  2,  3],\n",
              "       [ 4,  5,  6,  7],\n",
              "       [ 8,  9, 10, 11]])"
            ]
          },
          "metadata": {
            "tags": []
          },
          "execution_count": 22
        }
      ]
    },
    {
      "cell_type": "code",
      "metadata": {
        "id": "iKxRSHBBOtXC",
        "colab_type": "code",
        "outputId": "9a2c6701-717f-4952-f93d-fff1e618e73f",
        "colab": {
          "base_uri": "https://localhost:8080/",
          "height": 34
        }
      },
      "source": [
        "b.sum(axis=0)"
      ],
      "execution_count": 0,
      "outputs": [
        {
          "output_type": "execute_result",
          "data": {
            "text/plain": [
              "array([12, 15, 18, 21])"
            ]
          },
          "metadata": {
            "tags": []
          },
          "execution_count": 23
        }
      ]
    },
    {
      "cell_type": "code",
      "metadata": {
        "id": "B7fJQiJ4O0eS",
        "colab_type": "code",
        "outputId": "1eded8bd-d215-4314-c018-63e7cdd84bad",
        "colab": {
          "base_uri": "https://localhost:8080/",
          "height": 34
        }
      },
      "source": [
        "b.min(axis=1)"
      ],
      "execution_count": 0,
      "outputs": [
        {
          "output_type": "execute_result",
          "data": {
            "text/plain": [
              "array([0, 4, 8])"
            ]
          },
          "metadata": {
            "tags": []
          },
          "execution_count": 24
        }
      ]
    },
    {
      "cell_type": "code",
      "metadata": {
        "id": "5sQgAcceO5ve",
        "colab_type": "code",
        "outputId": "3af85031-be4a-479c-cfb9-05c45047ef24",
        "colab": {
          "base_uri": "https://localhost:8080/",
          "height": 68
        }
      },
      "source": [
        "b.cumsum(axis=1)"
      ],
      "execution_count": 0,
      "outputs": [
        {
          "output_type": "execute_result",
          "data": {
            "text/plain": [
              "array([[ 0,  1,  3,  6],\n",
              "       [ 4,  9, 15, 22],\n",
              "       [ 8, 17, 27, 38]])"
            ]
          },
          "metadata": {
            "tags": []
          },
          "execution_count": 25
        }
      ]
    },
    {
      "cell_type": "markdown",
      "metadata": {
        "id": "ARfN4tWBBkZo",
        "colab_type": "text"
      },
      "source": [
        "UNIVERSAL FUNCTIONS"
      ]
    },
    {
      "cell_type": "code",
      "metadata": {
        "id": "RnUwxJRABn54",
        "colab_type": "code",
        "outputId": "fc133ea7-b91a-4cdb-d569-692ffa4643b9",
        "colab": {
          "base_uri": "https://localhost:8080/",
          "height": 34
        }
      },
      "source": [
        "import numpy as np\n",
        "b=np.arange(5)\n",
        "b"
      ],
      "execution_count": 0,
      "outputs": [
        {
          "output_type": "execute_result",
          "data": {
            "text/plain": [
              "array([0, 1, 2, 3, 4])"
            ]
          },
          "metadata": {
            "tags": []
          },
          "execution_count": 7
        }
      ]
    },
    {
      "cell_type": "code",
      "metadata": {
        "id": "Qdiykr9FB9Cz",
        "colab_type": "code",
        "outputId": "baafbfdc-84fc-41ad-c707-61bc9f84f0da",
        "colab": {
          "base_uri": "https://localhost:8080/",
          "height": 34
        }
      },
      "source": [
        "np.max(b)"
      ],
      "execution_count": 0,
      "outputs": [
        {
          "output_type": "execute_result",
          "data": {
            "text/plain": [
              "4"
            ]
          },
          "metadata": {
            "tags": []
          },
          "execution_count": 20
        }
      ]
    },
    {
      "cell_type": "code",
      "metadata": {
        "id": "t5bDAXoUCV52",
        "colab_type": "code",
        "outputId": "fdf95f91-5252-4241-ca09-76f854958828",
        "colab": {
          "base_uri": "https://localhost:8080/",
          "height": 34
        }
      },
      "source": [
        "np.nonzero(b)"
      ],
      "execution_count": 0,
      "outputs": [
        {
          "output_type": "execute_result",
          "data": {
            "text/plain": [
              "(array([1, 2, 3, 4]),)"
            ]
          },
          "metadata": {
            "tags": []
          },
          "execution_count": 22
        }
      ]
    },
    {
      "cell_type": "code",
      "metadata": {
        "id": "1avMPMBaCjCG",
        "colab_type": "code",
        "outputId": "dea83eae-dd58-44c6-b555-b18f4243df74",
        "colab": {
          "base_uri": "https://localhost:8080/",
          "height": 34
        }
      },
      "source": [
        "c=np.array([2.,-1.,4.,6.,8.])\n",
        "np.add(b,c)"
      ],
      "execution_count": 0,
      "outputs": [
        {
          "output_type": "execute_result",
          "data": {
            "text/plain": [
              "array([ 2.,  0.,  6.,  9., 12.])"
            ]
          },
          "metadata": {
            "tags": []
          },
          "execution_count": 18
        }
      ]
    },
    {
      "cell_type": "markdown",
      "metadata": {
        "id": "XqXaKAdYEcva",
        "colab_type": "text"
      },
      "source": [
        "INDEXING SLICING ITERATING"
      ]
    },
    {
      "cell_type": "code",
      "metadata": {
        "id": "Fh6gRdz7EkPj",
        "colab_type": "code",
        "outputId": "c8ed24be-0dbc-4499-8ab2-fbd473de2645",
        "colab": {
          "base_uri": "https://localhost:8080/",
          "height": 34
        }
      },
      "source": [
        "a=np.arange(10)**3\n",
        "a"
      ],
      "execution_count": 0,
      "outputs": [
        {
          "output_type": "execute_result",
          "data": {
            "text/plain": [
              "array([  0,   1,   8,  27,  64, 125, 216, 343, 512, 729])"
            ]
          },
          "metadata": {
            "tags": []
          },
          "execution_count": 23
        }
      ]
    },
    {
      "cell_type": "code",
      "metadata": {
        "id": "sUBaxgpvEutx",
        "colab_type": "code",
        "outputId": "d8b339ad-cecf-4326-c201-fca1b162ae18",
        "colab": {
          "base_uri": "https://localhost:8080/",
          "height": 34
        }
      },
      "source": [
        "a[-2]"
      ],
      "execution_count": 0,
      "outputs": [
        {
          "output_type": "execute_result",
          "data": {
            "text/plain": [
              "512"
            ]
          },
          "metadata": {
            "tags": []
          },
          "execution_count": 27
        }
      ]
    },
    {
      "cell_type": "code",
      "metadata": {
        "id": "1vsiARJSE-03",
        "colab_type": "code",
        "outputId": "af968de9-1bd6-4f61-a209-3b6da563e82a",
        "colab": {
          "base_uri": "https://localhost:8080/",
          "height": 34
        }
      },
      "source": [
        "a[2:5]"
      ],
      "execution_count": 0,
      "outputs": [
        {
          "output_type": "execute_result",
          "data": {
            "text/plain": [
              "array([ 8, 27, 64])"
            ]
          },
          "metadata": {
            "tags": []
          },
          "execution_count": 42
        }
      ]
    },
    {
      "cell_type": "code",
      "metadata": {
        "id": "kRUDQNEXHkye",
        "colab_type": "code",
        "outputId": "7f1e1385-ea73-4bfa-f1af-7096848eeffe",
        "colab": {
          "base_uri": "https://localhost:8080/",
          "height": 51
        }
      },
      "source": [
        "a[:6:2]=-1000\n",
        "a"
      ],
      "execution_count": 0,
      "outputs": [
        {
          "output_type": "execute_result",
          "data": {
            "text/plain": [
              "array([-1000,     1, -1000,    27, -1000,   125,   216,   343,   512,\n",
              "         729])"
            ]
          },
          "metadata": {
            "tags": []
          },
          "execution_count": 44
        }
      ]
    },
    {
      "cell_type": "code",
      "metadata": {
        "id": "ftskSqknHw91",
        "colab_type": "code",
        "outputId": "f45d750d-e5cf-479f-fc88-5ba5ccf78b72",
        "colab": {
          "base_uri": "https://localhost:8080/",
          "height": 51
        }
      },
      "source": [
        "a[: :-1]"
      ],
      "execution_count": 0,
      "outputs": [
        {
          "output_type": "execute_result",
          "data": {
            "text/plain": [
              "array([  729,   512,   343,   216,   125, -1000,    27, -1000,     1,\n",
              "       -1000])"
            ]
          },
          "metadata": {
            "tags": []
          },
          "execution_count": 45
        }
      ]
    },
    {
      "cell_type": "code",
      "metadata": {
        "id": "6mXSrO1sH4sU",
        "colab_type": "code",
        "outputId": "94b58d35-c466-4021-bb4b-9518e85c3295",
        "colab": {
          "base_uri": "https://localhost:8080/",
          "height": 221
        }
      },
      "source": [
        "for i in a:\n",
        "  print(i**(1/3))"
      ],
      "execution_count": 0,
      "outputs": [
        {
          "output_type": "stream",
          "text": [
            "nan\n",
            "1.0\n",
            "nan\n",
            "3.0\n",
            "nan\n",
            "4.999999999999999\n",
            "5.999999999999999\n",
            "6.999999999999999\n",
            "7.999999999999999\n",
            "8.999999999999998\n"
          ],
          "name": "stdout"
        },
        {
          "output_type": "stream",
          "text": [
            "/usr/local/lib/python3.6/dist-packages/ipykernel_launcher.py:2: RuntimeWarning: invalid value encountered in power\n",
            "  \n"
          ],
          "name": "stderr"
        }
      ]
    },
    {
      "cell_type": "markdown",
      "metadata": {
        "id": "CLJvkDtYIATe",
        "colab_type": "text"
      },
      "source": [
        "MULTIDIMENSIONAL"
      ]
    },
    {
      "cell_type": "code",
      "metadata": {
        "id": "N5Ylo3yTID1u",
        "colab_type": "code",
        "outputId": "0909c377-04b2-4dd8-c633-3f4aad94f181",
        "colab": {
          "base_uri": "https://localhost:8080/",
          "height": 102
        }
      },
      "source": [
        "def f(x,y):\n",
        "  return 10*x+y\n",
        "b=np.fromfunction(f,(5,4),dtype=int)\n",
        "b"
      ],
      "execution_count": 0,
      "outputs": [
        {
          "output_type": "execute_result",
          "data": {
            "text/plain": [
              "array([[ 0,  1,  2,  3],\n",
              "       [10, 11, 12, 13],\n",
              "       [20, 21, 22, 23],\n",
              "       [30, 31, 32, 33],\n",
              "       [40, 41, 42, 43]])"
            ]
          },
          "metadata": {
            "tags": []
          },
          "execution_count": 49
        }
      ]
    },
    {
      "cell_type": "code",
      "metadata": {
        "id": "Z5w-6hUIIixJ",
        "colab_type": "code",
        "outputId": "ea18c679-917d-4f37-a03d-f57ab28e9e30",
        "colab": {
          "base_uri": "https://localhost:8080/",
          "height": 34
        }
      },
      "source": [
        "b[2,3]"
      ],
      "execution_count": 0,
      "outputs": [
        {
          "output_type": "execute_result",
          "data": {
            "text/plain": [
              "23"
            ]
          },
          "metadata": {
            "tags": []
          },
          "execution_count": 55
        }
      ]
    },
    {
      "cell_type": "code",
      "metadata": {
        "id": "D5SNz_4NI7sz",
        "colab_type": "code",
        "outputId": "497847bc-8621-478a-c814-8245c47d3377",
        "colab": {
          "base_uri": "https://localhost:8080/",
          "height": 34
        }
      },
      "source": [
        "b[0:5,1]"
      ],
      "execution_count": 0,
      "outputs": [
        {
          "output_type": "execute_result",
          "data": {
            "text/plain": [
              "array([ 1, 11, 21, 31, 41])"
            ]
          },
          "metadata": {
            "tags": []
          },
          "execution_count": 60
        }
      ]
    },
    {
      "cell_type": "code",
      "metadata": {
        "id": "DRy3UrH-JPy_",
        "colab_type": "code",
        "outputId": "90b8fbbf-e39f-4023-9c76-0730d017fae2",
        "colab": {
          "base_uri": "https://localhost:8080/",
          "height": 34
        }
      },
      "source": [
        "b[:,1]"
      ],
      "execution_count": 0,
      "outputs": [
        {
          "output_type": "execute_result",
          "data": {
            "text/plain": [
              "array([ 1, 11, 21, 31, 41])"
            ]
          },
          "metadata": {
            "tags": []
          },
          "execution_count": 61
        }
      ]
    },
    {
      "cell_type": "code",
      "metadata": {
        "id": "iKFR5mdjJba_",
        "colab_type": "code",
        "outputId": "c2ad2fd4-55a6-47df-bcdd-9ec714867a95",
        "colab": {
          "base_uri": "https://localhost:8080/",
          "height": 51
        }
      },
      "source": [
        "b[1:3,:]"
      ],
      "execution_count": 0,
      "outputs": [
        {
          "output_type": "execute_result",
          "data": {
            "text/plain": [
              "array([[10, 11, 12, 13],\n",
              "       [20, 21, 22, 23]])"
            ]
          },
          "metadata": {
            "tags": []
          },
          "execution_count": 65
        }
      ]
    },
    {
      "cell_type": "code",
      "metadata": {
        "id": "kckcusAJJ-ow",
        "colab_type": "code",
        "outputId": "da68f6af-bd03-4c64-edf3-91b663490a74",
        "colab": {
          "base_uri": "https://localhost:8080/",
          "height": 34
        }
      },
      "source": [
        "b[-1]"
      ],
      "execution_count": 0,
      "outputs": [
        {
          "output_type": "execute_result",
          "data": {
            "text/plain": [
              "array([40, 41, 42, 43])"
            ]
          },
          "metadata": {
            "tags": []
          },
          "execution_count": 66
        }
      ]
    },
    {
      "cell_type": "code",
      "metadata": {
        "id": "W-dX1_oIKlFl",
        "colab_type": "code",
        "outputId": "2d1d370e-1706-45b0-e88f-81c4deafdd0b",
        "colab": {
          "base_uri": "https://localhost:8080/",
          "height": 34
        }
      },
      "source": [
        "c=np.array([[[0,1,2],\n",
        "             [10,12,13]],\n",
        "            [[100,101,102],\n",
        "            [110,112,113]]])\n",
        "c.shape"
      ],
      "execution_count": 0,
      "outputs": [
        {
          "output_type": "execute_result",
          "data": {
            "text/plain": [
              "(2, 2, 3)"
            ]
          },
          "metadata": {
            "tags": []
          },
          "execution_count": 67
        }
      ]
    },
    {
      "cell_type": "markdown",
      "metadata": {
        "id": "GwT30LUuMGSs",
        "colab_type": "text"
      },
      "source": [
        "N DIMENSIONAL ARRAY"
      ]
    },
    {
      "cell_type": "code",
      "metadata": {
        "id": "vaX6Nao_MJtF",
        "colab_type": "code",
        "outputId": "c75559d0-68dd-48e5-e83d-35cc4f6c68f2",
        "colab": {
          "base_uri": "https://localhost:8080/",
          "height": 34
        }
      },
      "source": [
        "np.array(8)"
      ],
      "execution_count": 0,
      "outputs": [
        {
          "output_type": "execute_result",
          "data": {
            "text/plain": [
              "array(8)"
            ]
          },
          "metadata": {
            "tags": []
          },
          "execution_count": 69
        }
      ]
    },
    {
      "cell_type": "code",
      "metadata": {
        "id": "VRFPeQDyMfUq",
        "colab_type": "code",
        "outputId": "0faf2338-04c3-4e95-f546-c8ec0b082667",
        "colab": {
          "base_uri": "https://localhost:8080/",
          "height": 34
        }
      },
      "source": [
        "np.array([2.3,0.1,-9.1])"
      ],
      "execution_count": 0,
      "outputs": [
        {
          "output_type": "execute_result",
          "data": {
            "text/plain": [
              "array([ 2.3,  0.1, -9.1])"
            ]
          },
          "metadata": {
            "tags": []
          },
          "execution_count": 70
        }
      ]
    },
    {
      "cell_type": "code",
      "metadata": {
        "id": "pLYrivQtNv0U",
        "colab_type": "code",
        "colab": {}
      },
      "source": [
        "d3_array=np.array([[[0,1],\n",
        "                  [2,3]],\n",
        "                   \n",
        "                  [[4,5],\n",
        "                   [6,7]]])"
      ],
      "execution_count": 0,
      "outputs": []
    },
    {
      "cell_type": "code",
      "metadata": {
        "id": "svQ657hrOpfn",
        "colab_type": "code",
        "outputId": "662bfdc8-b8ee-4d24-d07e-4580c3df6ab5",
        "colab": {
          "base_uri": "https://localhost:8080/",
          "height": 34
        }
      },
      "source": [
        "d3_array[1,0,1]"
      ],
      "execution_count": 0,
      "outputs": [
        {
          "output_type": "execute_result",
          "data": {
            "text/plain": [
              "5"
            ]
          },
          "metadata": {
            "tags": []
          },
          "execution_count": 90
        }
      ]
    },
    {
      "cell_type": "code",
      "metadata": {
        "id": "A3k_WdxrOzo5",
        "colab_type": "code",
        "outputId": "145f1e07-d224-433b-e1b5-6f24b3f5fc88",
        "colab": {
          "base_uri": "https://localhost:8080/",
          "height": 34
        }
      },
      "source": [
        "d3_array[:,0,0]"
      ],
      "execution_count": 0,
      "outputs": [
        {
          "output_type": "execute_result",
          "data": {
            "text/plain": [
              "array([0, 4])"
            ]
          },
          "metadata": {
            "tags": []
          },
          "execution_count": 78
        }
      ]
    },
    {
      "cell_type": "code",
      "metadata": {
        "id": "PkSCiNCAQls0",
        "colab_type": "code",
        "outputId": "f564b899-6ada-4505-a307-a8505b08e63d",
        "colab": {
          "base_uri": "https://localhost:8080/",
          "height": 51
        }
      },
      "source": [
        "d3_array[0]"
      ],
      "execution_count": 0,
      "outputs": [
        {
          "output_type": "execute_result",
          "data": {
            "text/plain": [
              "array([[0, 1],\n",
              "       [2, 3]])"
            ]
          },
          "metadata": {
            "tags": []
          },
          "execution_count": 92
        }
      ]
    },
    {
      "cell_type": "code",
      "metadata": {
        "id": "sMq36y1cQsbd",
        "colab_type": "code",
        "outputId": "cb536841-0674-4c9a-dee7-77e65ef2fd14",
        "colab": {
          "base_uri": "https://localhost:8080/",
          "height": 51
        }
      },
      "source": [
        "d3_array[1]"
      ],
      "execution_count": 0,
      "outputs": [
        {
          "output_type": "execute_result",
          "data": {
            "text/plain": [
              "array([[4, 5],\n",
              "       [6, 7]])"
            ]
          },
          "metadata": {
            "tags": []
          },
          "execution_count": 93
        }
      ]
    },
    {
      "cell_type": "markdown",
      "metadata": {
        "id": "eDIyyjQkSpmX",
        "colab_type": "text"
      },
      "source": [
        "3 DIMENSIONAL"
      ]
    },
    {
      "cell_type": "code",
      "metadata": {
        "id": "ifKzrq9MStml",
        "colab_type": "code",
        "colab": {}
      },
      "source": [
        "arr=np.array([[[0,1,2],\n",
        "              [3,4,5],\n",
        "              [6,7,8]],\n",
        "              \n",
        "             [[9,10,11],\n",
        "              [12,13,14],\n",
        "              [15,16,17]],\n",
        "              \n",
        "              [[18,19,20],\n",
        "               [21,22,23],\n",
        "               [24,25,26]]])"
      ],
      "execution_count": 0,
      "outputs": []
    },
    {
      "cell_type": "code",
      "metadata": {
        "id": "OuoU-ldOTq6q",
        "colab_type": "code",
        "outputId": "abfaa219-5082-4bb7-a269-1f3a9aa87f7c",
        "colab": {
          "base_uri": "https://localhost:8080/",
          "height": 34
        }
      },
      "source": [
        "x.item()"
      ],
      "execution_count": 0,
      "outputs": [
        {
          "output_type": "execute_result",
          "data": {
            "text/plain": [
              "15.2"
            ]
          },
          "metadata": {
            "tags": []
          },
          "execution_count": 100
        }
      ]
    },
    {
      "cell_type": "code",
      "metadata": {
        "id": "2QelHJN8Uv2I",
        "colab_type": "code",
        "colab": {}
      },
      "source": [
        "x=np.array([[1,2,3,4],\n",
        "           [5,6,7,8],\n",
        "           [9,10,11,12]])"
      ],
      "execution_count": 0,
      "outputs": []
    },
    {
      "cell_type": "code",
      "metadata": {
        "id": "h_LvtUzuVCWw",
        "colab_type": "code",
        "outputId": "dd548b86-9cbb-408a-973c-2a8a21e7a72f",
        "colab": {
          "base_uri": "https://localhost:8080/",
          "height": 153
        }
      },
      "source": [
        "x.reshape(3,2,2)"
      ],
      "execution_count": 0,
      "outputs": [
        {
          "output_type": "execute_result",
          "data": {
            "text/plain": [
              "array([[[ 1,  2],\n",
              "        [ 3,  4]],\n",
              "\n",
              "       [[ 5,  6],\n",
              "        [ 7,  8]],\n",
              "\n",
              "       [[ 9, 10],\n",
              "        [11, 12]]])"
            ]
          },
          "metadata": {
            "tags": []
          },
          "execution_count": 107
        }
      ]
    },
    {
      "cell_type": "code",
      "metadata": {
        "id": "g6QU3GKnWoa2",
        "colab_type": "code",
        "outputId": "a42aecc4-0b23-47df-bf97-82683331ad7f",
        "colab": {
          "base_uri": "https://localhost:8080/",
          "height": 34
        }
      },
      "source": [
        "c=np.array ([[[0,1,2],\n",
        "            [10,12,13]],\n",
        "             \n",
        "            [[100,101,102],\n",
        "            [110,112,113]]])\n",
        "c.shape"
      ],
      "execution_count": 0,
      "outputs": [
        {
          "output_type": "execute_result",
          "data": {
            "text/plain": [
              "(2, 2, 3)"
            ]
          },
          "metadata": {
            "tags": []
          },
          "execution_count": 112
        }
      ]
    },
    {
      "cell_type": "code",
      "metadata": {
        "id": "o4ZJshGxXqgE",
        "colab_type": "code",
        "outputId": "de65c363-5590-4216-fe98-11e024b699ba",
        "colab": {
          "base_uri": "https://localhost:8080/",
          "height": 51
        }
      },
      "source": [
        "c[0,...]"
      ],
      "execution_count": 0,
      "outputs": [
        {
          "output_type": "execute_result",
          "data": {
            "text/plain": [
              "array([[ 0,  1,  2],\n",
              "       [10, 12, 13]])"
            ]
          },
          "metadata": {
            "tags": []
          },
          "execution_count": 114
        }
      ]
    },
    {
      "cell_type": "code",
      "metadata": {
        "id": "w9Nc6IdcX2aM",
        "colab_type": "code",
        "outputId": "fcc4f0ca-8f1a-4c2d-c5c2-a3d9b1e345cc",
        "colab": {
          "base_uri": "https://localhost:8080/",
          "height": 51
        }
      },
      "source": [
        "c[1]"
      ],
      "execution_count": 0,
      "outputs": [
        {
          "output_type": "execute_result",
          "data": {
            "text/plain": [
              "array([[100, 101, 102],\n",
              "       [110, 112, 113]])"
            ]
          },
          "metadata": {
            "tags": []
          },
          "execution_count": 117
        }
      ]
    },
    {
      "cell_type": "code",
      "metadata": {
        "id": "YX3toYlhX6Dd",
        "colab_type": "code",
        "outputId": "da672d1c-a988-46f6-9316-6f67c9e949e6",
        "colab": {
          "base_uri": "https://localhost:8080/",
          "height": 51
        }
      },
      "source": [
        "c[...,2]"
      ],
      "execution_count": 0,
      "outputs": [
        {
          "output_type": "execute_result",
          "data": {
            "text/plain": [
              "array([[  2,  13],\n",
              "       [102, 113]])"
            ]
          },
          "metadata": {
            "tags": []
          },
          "execution_count": 119
        }
      ]
    },
    {
      "cell_type": "code",
      "metadata": {
        "id": "FWHW6wDnYtTn",
        "colab_type": "code",
        "colab": {
          "base_uri": "https://localhost:8080/",
          "height": 102
        },
        "outputId": "8767dca2-28cb-4b41-9980-0a4f37805f75"
      },
      "source": [
        "import numpy as np\n",
        "def f(x,y):\n",
        "  return 10*x+y\n",
        "b=np.fromfunction(f,(5,4),dtype=int)\n",
        "b"
      ],
      "execution_count": 5,
      "outputs": [
        {
          "output_type": "execute_result",
          "data": {
            "text/plain": [
              "array([[ 0,  1,  2,  3],\n",
              "       [10, 11, 12, 13],\n",
              "       [20, 21, 22, 23],\n",
              "       [30, 31, 32, 33],\n",
              "       [40, 41, 42, 43]])"
            ]
          },
          "metadata": {
            "tags": []
          },
          "execution_count": 5
        }
      ]
    },
    {
      "cell_type": "code",
      "metadata": {
        "id": "H34QMk8EaSEH",
        "colab_type": "code",
        "colab": {
          "base_uri": "https://localhost:8080/",
          "height": 102
        },
        "outputId": "19d0eff1-9607-43b9-89c9-9f78ae43eb5a"
      },
      "source": [
        "for row in b:\n",
        "  print(row)"
      ],
      "execution_count": 6,
      "outputs": [
        {
          "output_type": "stream",
          "text": [
            "[0 1 2 3]\n",
            "[10 11 12 13]\n",
            "[20 21 22 23]\n",
            "[30 31 32 33]\n",
            "[40 41 42 43]\n"
          ],
          "name": "stdout"
        }
      ]
    },
    {
      "cell_type": "code",
      "metadata": {
        "id": "WUQf84OUat13",
        "colab_type": "code",
        "colab": {
          "base_uri": "https://localhost:8080/",
          "height": 357
        },
        "outputId": "4d5c5370-0664-4afe-e6ac-e76a73e73357"
      },
      "source": [
        "for element in b.flat:\n",
        "  print(element)"
      ],
      "execution_count": 7,
      "outputs": [
        {
          "output_type": "stream",
          "text": [
            "0\n",
            "1\n",
            "2\n",
            "3\n",
            "10\n",
            "11\n",
            "12\n",
            "13\n",
            "20\n",
            "21\n",
            "22\n",
            "23\n",
            "30\n",
            "31\n",
            "32\n",
            "33\n",
            "40\n",
            "41\n",
            "42\n",
            "43\n"
          ],
          "name": "stdout"
        }
      ]
    },
    {
      "cell_type": "code",
      "metadata": {
        "id": "I2hUlqxHbNDH",
        "colab_type": "code",
        "colab": {
          "base_uri": "https://localhost:8080/",
          "height": 68
        },
        "outputId": "1ee04b29-561f-4dc1-96a6-42f8b5a05278"
      },
      "source": [
        "a=np.floor(10*np.random.random((3,4)))\n",
        "a"
      ],
      "execution_count": 13,
      "outputs": [
        {
          "output_type": "execute_result",
          "data": {
            "text/plain": [
              "array([[9., 1., 0., 3.],\n",
              "       [6., 8., 0., 2.],\n",
              "       [2., 6., 7., 2.]])"
            ]
          },
          "metadata": {
            "tags": []
          },
          "execution_count": 13
        }
      ]
    },
    {
      "cell_type": "code",
      "metadata": {
        "id": "i731Gvojc48e",
        "colab_type": "code",
        "colab": {
          "base_uri": "https://localhost:8080/",
          "height": 34
        },
        "outputId": "d9ceac60-5607-43da-cfdb-750462b72323"
      },
      "source": [
        "a.shape"
      ],
      "execution_count": 14,
      "outputs": [
        {
          "output_type": "execute_result",
          "data": {
            "text/plain": [
              "(3, 4)"
            ]
          },
          "metadata": {
            "tags": []
          },
          "execution_count": 14
        }
      ]
    },
    {
      "cell_type": "code",
      "metadata": {
        "id": "nR-2c9wbc_gW",
        "colab_type": "code",
        "colab": {
          "base_uri": "https://localhost:8080/",
          "height": 34
        },
        "outputId": "113dacd6-4651-4231-b720-758775dd50f8"
      },
      "source": [
        "a.ravel()"
      ],
      "execution_count": 15,
      "outputs": [
        {
          "output_type": "execute_result",
          "data": {
            "text/plain": [
              "array([9., 1., 0., 3., 6., 8., 0., 2., 2., 6., 7., 2.])"
            ]
          },
          "metadata": {
            "tags": []
          },
          "execution_count": 15
        }
      ]
    },
    {
      "cell_type": "code",
      "metadata": {
        "id": "fXUHj8Fxduo2",
        "colab_type": "code",
        "colab": {
          "base_uri": "https://localhost:8080/",
          "height": 119
        },
        "outputId": "ed75baaa-9244-4a16-a3f2-7fd587b9a77e"
      },
      "source": [
        "a.reshape(6,2)"
      ],
      "execution_count": 16,
      "outputs": [
        {
          "output_type": "execute_result",
          "data": {
            "text/plain": [
              "array([[9., 1.],\n",
              "       [0., 3.],\n",
              "       [6., 8.],\n",
              "       [0., 2.],\n",
              "       [2., 6.],\n",
              "       [7., 2.]])"
            ]
          },
          "metadata": {
            "tags": []
          },
          "execution_count": 16
        }
      ]
    },
    {
      "cell_type": "code",
      "metadata": {
        "id": "jcdFIhzpd_nJ",
        "colab_type": "code",
        "colab": {
          "base_uri": "https://localhost:8080/",
          "height": 85
        },
        "outputId": "6048333f-6581-4e58-d8a9-5897d936cae8"
      },
      "source": [
        "a.T"
      ],
      "execution_count": 17,
      "outputs": [
        {
          "output_type": "execute_result",
          "data": {
            "text/plain": [
              "array([[9., 6., 2.],\n",
              "       [1., 8., 6.],\n",
              "       [0., 0., 7.],\n",
              "       [3., 2., 2.]])"
            ]
          },
          "metadata": {
            "tags": []
          },
          "execution_count": 17
        }
      ]
    },
    {
      "cell_type": "code",
      "metadata": {
        "id": "iln0ky1ceRbp",
        "colab_type": "code",
        "colab": {
          "base_uri": "https://localhost:8080/",
          "height": 34
        },
        "outputId": "0a2af369-e9e7-4af6-e8f8-538f0ec5cce6"
      },
      "source": [
        "a.T.shape"
      ],
      "execution_count": 18,
      "outputs": [
        {
          "output_type": "execute_result",
          "data": {
            "text/plain": [
              "(4, 3)"
            ]
          },
          "metadata": {
            "tags": []
          },
          "execution_count": 18
        }
      ]
    },
    {
      "cell_type": "code",
      "metadata": {
        "id": "wnHPftGveZY_",
        "colab_type": "code",
        "colab": {
          "base_uri": "https://localhost:8080/",
          "height": 34
        },
        "outputId": "ac1103c2-c71a-4714-f100-0f4a30acd5bf"
      },
      "source": [
        "a.shape"
      ],
      "execution_count": 19,
      "outputs": [
        {
          "output_type": "execute_result",
          "data": {
            "text/plain": [
              "(3, 4)"
            ]
          },
          "metadata": {
            "tags": []
          },
          "execution_count": 19
        }
      ]
    },
    {
      "cell_type": "code",
      "metadata": {
        "id": "DCphP295edD_",
        "colab_type": "code",
        "colab": {
          "base_uri": "https://localhost:8080/",
          "height": 68
        },
        "outputId": "c3e005cf-007b-4b71-9324-a77075429a7c"
      },
      "source": [
        "a"
      ],
      "execution_count": 20,
      "outputs": [
        {
          "output_type": "execute_result",
          "data": {
            "text/plain": [
              "array([[9., 1., 0., 3.],\n",
              "       [6., 8., 0., 2.],\n",
              "       [2., 6., 7., 2.]])"
            ]
          },
          "metadata": {
            "tags": []
          },
          "execution_count": 20
        }
      ]
    },
    {
      "cell_type": "code",
      "metadata": {
        "id": "FkyLZgy8egmA",
        "colab_type": "code",
        "colab": {
          "base_uri": "https://localhost:8080/",
          "height": 51
        },
        "outputId": "381f6928-0463-4b7f-8672-242f7075852e"
      },
      "source": [
        "a.resize((2,6))\n",
        "a"
      ],
      "execution_count": 22,
      "outputs": [
        {
          "output_type": "execute_result",
          "data": {
            "text/plain": [
              "array([[9., 1., 0., 3., 6., 8.],\n",
              "       [0., 2., 2., 6., 7., 2.]])"
            ]
          },
          "metadata": {
            "tags": []
          },
          "execution_count": 22
        }
      ]
    },
    {
      "cell_type": "code",
      "metadata": {
        "id": "0yIbSkCrfAnd",
        "colab_type": "code",
        "colab": {
          "base_uri": "https://localhost:8080/",
          "height": 68
        },
        "outputId": "fa18e3b6-88e4-4620-9911-d8a93b92bc46"
      },
      "source": [
        "a.reshape(3,-1)"
      ],
      "execution_count": 23,
      "outputs": [
        {
          "output_type": "execute_result",
          "data": {
            "text/plain": [
              "array([[9., 1., 0., 3.],\n",
              "       [6., 8., 0., 2.],\n",
              "       [2., 6., 7., 2.]])"
            ]
          },
          "metadata": {
            "tags": []
          },
          "execution_count": 23
        }
      ]
    },
    {
      "cell_type": "code",
      "metadata": {
        "id": "XyhD11oqfKKM",
        "colab_type": "code",
        "colab": {
          "base_uri": "https://localhost:8080/",
          "height": 51
        },
        "outputId": "6ae9c31b-977e-4a13-b0f2-a5373dac67e2"
      },
      "source": [
        "a=np.floor(10*np.random.random((2,2)))\n",
        "a"
      ],
      "execution_count": 24,
      "outputs": [
        {
          "output_type": "execute_result",
          "data": {
            "text/plain": [
              "array([[4., 7.],\n",
              "       [4., 0.]])"
            ]
          },
          "metadata": {
            "tags": []
          },
          "execution_count": 24
        }
      ]
    },
    {
      "cell_type": "code",
      "metadata": {
        "id": "qrNGWNgLfW3v",
        "colab_type": "code",
        "colab": {
          "base_uri": "https://localhost:8080/",
          "height": 51
        },
        "outputId": "4cd573f5-1e1f-4507-c038-5567b9c11a03"
      },
      "source": [
        "b=np.floor(10*np.random.random((2,2)))\n",
        "b"
      ],
      "execution_count": 25,
      "outputs": [
        {
          "output_type": "execute_result",
          "data": {
            "text/plain": [
              "array([[4., 5.],\n",
              "       [2., 8.]])"
            ]
          },
          "metadata": {
            "tags": []
          },
          "execution_count": 25
        }
      ]
    },
    {
      "cell_type": "code",
      "metadata": {
        "id": "wEoAYdTvfiEj",
        "colab_type": "code",
        "colab": {
          "base_uri": "https://localhost:8080/",
          "height": 85
        },
        "outputId": "944960ed-69ac-47ef-fe76-d68082a78aab"
      },
      "source": [
        "np.vstack((a,b))"
      ],
      "execution_count": 26,
      "outputs": [
        {
          "output_type": "execute_result",
          "data": {
            "text/plain": [
              "array([[4., 7.],\n",
              "       [4., 0.],\n",
              "       [4., 5.],\n",
              "       [2., 8.]])"
            ]
          },
          "metadata": {
            "tags": []
          },
          "execution_count": 26
        }
      ]
    },
    {
      "cell_type": "code",
      "metadata": {
        "id": "iLHM2p4ifoAk",
        "colab_type": "code",
        "colab": {
          "base_uri": "https://localhost:8080/",
          "height": 51
        },
        "outputId": "40c5b1b3-235e-47f2-e43e-84e331bd2722"
      },
      "source": [
        "np.hstack((a,b))"
      ],
      "execution_count": 27,
      "outputs": [
        {
          "output_type": "execute_result",
          "data": {
            "text/plain": [
              "array([[4., 7., 4., 5.],\n",
              "       [4., 0., 2., 8.]])"
            ]
          },
          "metadata": {
            "tags": []
          },
          "execution_count": 27
        }
      ]
    },
    {
      "cell_type": "code",
      "metadata": {
        "id": "iUs0G15Jf13X",
        "colab_type": "code",
        "colab": {
          "base_uri": "https://localhost:8080/",
          "height": 51
        },
        "outputId": "5cadc395-158c-460d-a64a-f36f21fd99b0"
      },
      "source": [
        "from numpy import newaxis\n",
        "np.column_stack((a,b))"
      ],
      "execution_count": 28,
      "outputs": [
        {
          "output_type": "execute_result",
          "data": {
            "text/plain": [
              "array([[4., 7., 4., 5.],\n",
              "       [4., 0., 2., 8.]])"
            ]
          },
          "metadata": {
            "tags": []
          },
          "execution_count": 28
        }
      ]
    },
    {
      "cell_type": "code",
      "metadata": {
        "id": "l7_fPqI1gT7h",
        "colab_type": "code",
        "colab": {
          "base_uri": "https://localhost:8080/",
          "height": 51
        },
        "outputId": "8996306a-2302-43ad-e93c-ba2ae8cdeb60"
      },
      "source": [
        "a=np.array([4.,2.])\n",
        "b=np.array([3.,8.])\n",
        "np.column_stack((a,b))"
      ],
      "execution_count": 29,
      "outputs": [
        {
          "output_type": "execute_result",
          "data": {
            "text/plain": [
              "array([[4., 3.],\n",
              "       [2., 8.]])"
            ]
          },
          "metadata": {
            "tags": []
          },
          "execution_count": 29
        }
      ]
    },
    {
      "cell_type": "code",
      "metadata": {
        "id": "-Jfqr8Hqg-gq",
        "colab_type": "code",
        "colab": {
          "base_uri": "https://localhost:8080/",
          "height": 34
        },
        "outputId": "b555b05b-21aa-4640-81ce-0de078e32639"
      },
      "source": [
        "np.hstack((a,b))"
      ],
      "execution_count": 30,
      "outputs": [
        {
          "output_type": "execute_result",
          "data": {
            "text/plain": [
              "array([4., 2., 3., 8.])"
            ]
          },
          "metadata": {
            "tags": []
          },
          "execution_count": 30
        }
      ]
    },
    {
      "cell_type": "code",
      "metadata": {
        "id": "crsfcILBhJZE",
        "colab_type": "code",
        "colab": {
          "base_uri": "https://localhost:8080/",
          "height": 51
        },
        "outputId": "ccb99838-4818-4410-ac01-95de9fe74592"
      },
      "source": [
        "a[:,newaxis]"
      ],
      "execution_count": 31,
      "outputs": [
        {
          "output_type": "execute_result",
          "data": {
            "text/plain": [
              "array([[4.],\n",
              "       [2.]])"
            ]
          },
          "metadata": {
            "tags": []
          },
          "execution_count": 31
        }
      ]
    },
    {
      "cell_type": "code",
      "metadata": {
        "id": "B-mn8DsKhSlR",
        "colab_type": "code",
        "colab": {
          "base_uri": "https://localhost:8080/",
          "height": 51
        },
        "outputId": "9b29e3e6-3dfc-423a-9c93-850c6dfd052f"
      },
      "source": [
        "np.column_stack((a[:,newaxis],b[:,newaxis]))"
      ],
      "execution_count": 32,
      "outputs": [
        {
          "output_type": "execute_result",
          "data": {
            "text/plain": [
              "array([[4., 3.],\n",
              "       [2., 8.]])"
            ]
          },
          "metadata": {
            "tags": []
          },
          "execution_count": 32
        }
      ]
    },
    {
      "cell_type": "code",
      "metadata": {
        "id": "y9qpvM6Ihfg2",
        "colab_type": "code",
        "colab": {
          "base_uri": "https://localhost:8080/",
          "height": 51
        },
        "outputId": "39bfef6b-f5b1-451b-b3d9-42ae602b808a"
      },
      "source": [
        "np.hstack((a[:,newaxis],b[:,newaxis]))"
      ],
      "execution_count": 33,
      "outputs": [
        {
          "output_type": "execute_result",
          "data": {
            "text/plain": [
              "array([[4., 3.],\n",
              "       [2., 8.]])"
            ]
          },
          "metadata": {
            "tags": []
          },
          "execution_count": 33
        }
      ]
    },
    {
      "cell_type": "code",
      "metadata": {
        "id": "skkgCHxrhweN",
        "colab_type": "code",
        "colab": {
          "base_uri": "https://localhost:8080/",
          "height": 34
        },
        "outputId": "b3891a8c-b317-4911-a10f-ee1aaf3b284f"
      },
      "source": [
        "np.r_[1:4,0,4]"
      ],
      "execution_count": 34,
      "outputs": [
        {
          "output_type": "execute_result",
          "data": {
            "text/plain": [
              "array([1, 2, 3, 0, 4])"
            ]
          },
          "metadata": {
            "tags": []
          },
          "execution_count": 34
        }
      ]
    },
    {
      "cell_type": "code",
      "metadata": {
        "id": "wcbgxYm-iG2I",
        "colab_type": "code",
        "colab": {
          "base_uri": "https://localhost:8080/",
          "height": 51
        },
        "outputId": "9de9f12e-9ad4-4598-8d08-d30b7efc6262"
      },
      "source": [
        "a=np.floor(10*np.random.random((2,12)))\n",
        "a"
      ],
      "execution_count": 35,
      "outputs": [
        {
          "output_type": "execute_result",
          "data": {
            "text/plain": [
              "array([[5., 6., 2., 2., 3., 0., 4., 3., 8., 5., 0., 1.],\n",
              "       [4., 7., 3., 0., 2., 9., 2., 4., 5., 7., 2., 3.]])"
            ]
          },
          "metadata": {
            "tags": []
          },
          "execution_count": 35
        }
      ]
    },
    {
      "cell_type": "code",
      "metadata": {
        "id": "vRx0NLT8iSbj",
        "colab_type": "code",
        "colab": {
          "base_uri": "https://localhost:8080/",
          "height": 85
        },
        "outputId": "46b0b56f-4fb1-41b7-ab68-6b43b3b4846e"
      },
      "source": [
        "np.hsplit(a,3)"
      ],
      "execution_count": 36,
      "outputs": [
        {
          "output_type": "execute_result",
          "data": {
            "text/plain": [
              "[array([[5., 6., 2., 2.],\n",
              "        [4., 7., 3., 0.]]), array([[3., 0., 4., 3.],\n",
              "        [2., 9., 2., 4.]]), array([[8., 5., 0., 1.],\n",
              "        [5., 7., 2., 3.]])]"
            ]
          },
          "metadata": {
            "tags": []
          },
          "execution_count": 36
        }
      ]
    },
    {
      "cell_type": "code",
      "metadata": {
        "id": "mFM1IzBsiYdI",
        "colab_type": "code",
        "colab": {
          "base_uri": "https://localhost:8080/",
          "height": 85
        },
        "outputId": "18888eda-4ff8-49fd-a4dc-1069a7a52d49"
      },
      "source": [
        "np.hsplit(a,(3,4))"
      ],
      "execution_count": 37,
      "outputs": [
        {
          "output_type": "execute_result",
          "data": {
            "text/plain": [
              "[array([[5., 6., 2.],\n",
              "        [4., 7., 3.]]), array([[2.],\n",
              "        [0.]]), array([[3., 0., 4., 3., 8., 5., 0., 1.],\n",
              "        [2., 9., 2., 4., 5., 7., 2., 3.]])]"
            ]
          },
          "metadata": {
            "tags": []
          },
          "execution_count": 37
        }
      ]
    },
    {
      "cell_type": "markdown",
      "metadata": {
        "id": "1chmi1aHipuQ",
        "colab_type": "text"
      },
      "source": [
        "copies and views"
      ]
    },
    {
      "cell_type": "code",
      "metadata": {
        "id": "SdP1Jt_zisn9",
        "colab_type": "code",
        "colab": {
          "base_uri": "https://localhost:8080/",
          "height": 34
        },
        "outputId": "76ecf066-9c8d-4b6e-f940-491be239f053"
      },
      "source": [
        "a=np.arange(12)\n",
        "b=a\n",
        "b is a"
      ],
      "execution_count": 38,
      "outputs": [
        {
          "output_type": "execute_result",
          "data": {
            "text/plain": [
              "True"
            ]
          },
          "metadata": {
            "tags": []
          },
          "execution_count": 38
        }
      ]
    },
    {
      "cell_type": "code",
      "metadata": {
        "id": "1urLYbPKi12p",
        "colab_type": "code",
        "colab": {
          "base_uri": "https://localhost:8080/",
          "height": 34
        },
        "outputId": "63ce6850-6870-4a1d-fcdb-c0bcceb95424"
      },
      "source": [
        "b.shape=3,4\n",
        "a.shape"
      ],
      "execution_count": 39,
      "outputs": [
        {
          "output_type": "execute_result",
          "data": {
            "text/plain": [
              "(3, 4)"
            ]
          },
          "metadata": {
            "tags": []
          },
          "execution_count": 39
        }
      ]
    },
    {
      "cell_type": "code",
      "metadata": {
        "id": "5Gdq1AqLi-hg",
        "colab_type": "code",
        "colab": {}
      },
      "source": [
        "def f(x):\n",
        "  print(id(x))\n",
        "  id(a)"
      ],
      "execution_count": 0,
      "outputs": []
    },
    {
      "cell_type": "code",
      "metadata": {
        "id": "5YOPg8kJjl66",
        "colab_type": "code",
        "colab": {
          "base_uri": "https://localhost:8080/",
          "height": 34
        },
        "outputId": "1f8b5514-6253-4f6a-8ce5-6082c90a8811"
      },
      "source": [
        "f(a)"
      ],
      "execution_count": 48,
      "outputs": [
        {
          "output_type": "stream",
          "text": [
            "139651311469712\n"
          ],
          "name": "stdout"
        }
      ]
    },
    {
      "cell_type": "markdown",
      "metadata": {
        "id": "LfGdECDdj3Li",
        "colab_type": "text"
      },
      "source": [
        "view "
      ]
    },
    {
      "cell_type": "code",
      "metadata": {
        "id": "AcCQjtToj5LT",
        "colab_type": "code",
        "colab": {
          "base_uri": "https://localhost:8080/",
          "height": 34
        },
        "outputId": "d7bccc76-08ef-4190-9ac4-0fc274f7e13d"
      },
      "source": [
        "c=a.view()\n",
        "c is a"
      ],
      "execution_count": 50,
      "outputs": [
        {
          "output_type": "execute_result",
          "data": {
            "text/plain": [
              "False"
            ]
          },
          "metadata": {
            "tags": []
          },
          "execution_count": 50
        }
      ]
    },
    {
      "cell_type": "code",
      "metadata": {
        "id": "O-AdkCjXj_sn",
        "colab_type": "code",
        "colab": {
          "base_uri": "https://localhost:8080/",
          "height": 34
        },
        "outputId": "9239e433-9519-4cb8-a2a0-84086622de91"
      },
      "source": [
        "c.base is a"
      ],
      "execution_count": 51,
      "outputs": [
        {
          "output_type": "execute_result",
          "data": {
            "text/plain": [
              "True"
            ]
          },
          "metadata": {
            "tags": []
          },
          "execution_count": 51
        }
      ]
    },
    {
      "cell_type": "code",
      "metadata": {
        "id": "83rwk5xRkGMn",
        "colab_type": "code",
        "colab": {
          "base_uri": "https://localhost:8080/",
          "height": 34
        },
        "outputId": "3473ab22-36f8-4418-97b1-24a2b100f69d"
      },
      "source": [
        "c.flags.owndata"
      ],
      "execution_count": 52,
      "outputs": [
        {
          "output_type": "execute_result",
          "data": {
            "text/plain": [
              "False"
            ]
          },
          "metadata": {
            "tags": []
          },
          "execution_count": 52
        }
      ]
    },
    {
      "cell_type": "code",
      "metadata": {
        "id": "Ybp1-4phkLoH",
        "colab_type": "code",
        "colab": {
          "base_uri": "https://localhost:8080/",
          "height": 34
        },
        "outputId": "c05bcd02-abbb-4b19-f75a-ce9b3118f0bd"
      },
      "source": [
        "c.shape=2,6\n",
        "a.shape"
      ],
      "execution_count": 53,
      "outputs": [
        {
          "output_type": "execute_result",
          "data": {
            "text/plain": [
              "(3, 4)"
            ]
          },
          "metadata": {
            "tags": []
          },
          "execution_count": 53
        }
      ]
    },
    {
      "cell_type": "code",
      "metadata": {
        "id": "R3dO0D0rkYML",
        "colab_type": "code",
        "colab": {
          "base_uri": "https://localhost:8080/",
          "height": 68
        },
        "outputId": "67028127-c795-4719-eabb-d0a93553ac61"
      },
      "source": [
        "c[0,4]=1234\n",
        "a"
      ],
      "execution_count": 54,
      "outputs": [
        {
          "output_type": "execute_result",
          "data": {
            "text/plain": [
              "array([[   0,    1,    2,    3],\n",
              "       [1234,    5,    6,    7],\n",
              "       [   8,    9,   10,   11]])"
            ]
          },
          "metadata": {
            "tags": []
          },
          "execution_count": 54
        }
      ]
    },
    {
      "cell_type": "code",
      "metadata": {
        "id": "Utw10tNGkhuv",
        "colab_type": "code",
        "colab": {}
      },
      "source": [
        "s=a[:,1:3]"
      ],
      "execution_count": 0,
      "outputs": []
    },
    {
      "cell_type": "code",
      "metadata": {
        "id": "h0OLnMJnkpxp",
        "colab_type": "code",
        "colab": {}
      },
      "source": [
        "s[:]=10"
      ],
      "execution_count": 0,
      "outputs": []
    },
    {
      "cell_type": "code",
      "metadata": {
        "id": "zI1EEdfZkuqM",
        "colab_type": "code",
        "colab": {
          "base_uri": "https://localhost:8080/",
          "height": 68
        },
        "outputId": "e353268e-53ed-42ba-ec40-e00ac64f4b6d"
      },
      "source": [
        "a"
      ],
      "execution_count": 59,
      "outputs": [
        {
          "output_type": "execute_result",
          "data": {
            "text/plain": [
              "array([[   0,   10,   10,    3],\n",
              "       [1234,   10,   10,    7],\n",
              "       [   8,   10,   10,   11]])"
            ]
          },
          "metadata": {
            "tags": []
          },
          "execution_count": 59
        }
      ]
    },
    {
      "cell_type": "markdown",
      "metadata": {
        "id": "8UX9BCfvk5lH",
        "colab_type": "text"
      },
      "source": [
        "deep copy"
      ]
    },
    {
      "cell_type": "code",
      "metadata": {
        "id": "SCRQLaZak7bk",
        "colab_type": "code",
        "colab": {
          "base_uri": "https://localhost:8080/",
          "height": 34
        },
        "outputId": "e6739611-0bde-4adf-b62b-f1d0643680e8"
      },
      "source": [
        "d=a.copy()\n",
        "d is a"
      ],
      "execution_count": 60,
      "outputs": [
        {
          "output_type": "execute_result",
          "data": {
            "text/plain": [
              "False"
            ]
          },
          "metadata": {
            "tags": []
          },
          "execution_count": 60
        }
      ]
    },
    {
      "cell_type": "code",
      "metadata": {
        "id": "eAiWPEO6lDqe",
        "colab_type": "code",
        "colab": {
          "base_uri": "https://localhost:8080/",
          "height": 34
        },
        "outputId": "9601241e-a6ac-4380-8e9c-66c45d39b139"
      },
      "source": [
        "d.base is a\n"
      ],
      "execution_count": 62,
      "outputs": [
        {
          "output_type": "execute_result",
          "data": {
            "text/plain": [
              "False"
            ]
          },
          "metadata": {
            "tags": []
          },
          "execution_count": 62
        }
      ]
    },
    {
      "cell_type": "code",
      "metadata": {
        "id": "9GrPstNzlKMh",
        "colab_type": "code",
        "colab": {
          "base_uri": "https://localhost:8080/",
          "height": 68
        },
        "outputId": "7996d6e1-fae7-4199-8ced-2f0220298b3d"
      },
      "source": [
        "d[0,0]=9999\n",
        "a"
      ],
      "execution_count": 63,
      "outputs": [
        {
          "output_type": "execute_result",
          "data": {
            "text/plain": [
              "array([[   0,   10,   10,    3],\n",
              "       [1234,   10,   10,    7],\n",
              "       [   8,   10,   10,   11]])"
            ]
          },
          "metadata": {
            "tags": []
          },
          "execution_count": 63
        }
      ]
    }
  ]
}